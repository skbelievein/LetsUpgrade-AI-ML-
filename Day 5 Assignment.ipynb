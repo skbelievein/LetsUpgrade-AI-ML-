{
 "cells": [
  {
   "cell_type": "markdown",
   "metadata": {},
   "source": [
    "Question 1 : Write a Python program to find the first 20 non-even prime natural numbers."
   ]
  },
  {
   "cell_type": "code",
   "execution_count": 1,
   "metadata": {},
   "outputs": [
    {
     "name": "stdout",
     "output_type": "stream",
     "text": [
      "3\n",
      "5\n",
      "7\n",
      "11\n",
      "13\n",
      "17\n",
      "19\n",
      "23\n",
      "29\n",
      "31\n",
      "37\n",
      "41\n",
      "43\n",
      "47\n",
      "53\n",
      "59\n",
      "61\n",
      "67\n",
      "71\n",
      "73\n"
     ]
    }
   ],
   "source": [
    "c = 0\n",
    "n = 2\n",
    "def prime(N): #function for checking whether the number is prime or not\n",
    "    for it in range(2,N):\n",
    "        if N%it == 0:\n",
    "            return 0\n",
    "    return 1\n",
    "        \n",
    "while(c<20):\n",
    "    if n % 2 != 0:  #\n",
    "        if (prime(n)): #call prime() function for checking whether n is prime or not\n",
    "            c += 1\n",
    "            print(n)\n",
    "            n = n + 1\n",
    "        else:\n",
    "            n = n + 1\n",
    "    else:\n",
    "        n = n+1\n",
    "    "
   ]
  },
  {
   "cell_type": "markdown",
   "metadata": {},
   "source": [
    "Question 2 : Write a Python program to implement 15 functions of string.\n"
   ]
  },
  {
   "cell_type": "code",
   "execution_count": 22,
   "metadata": {},
   "outputs": [
    {
     "name": "stdout",
     "output_type": "stream",
     "text": [
      "Enter any string : lo;\n",
      "Entered string is  lo;\n",
      "String After converting first character of string to upper case :  Lo;\n",
      "String After converting into lower case :  lo;\n",
      "String After converting into lower case :  LO;\n",
      "Check if string is in lower case :  True\n",
      "Check if string is in Upper case :  False\n",
      "String After converting into lower case :  lo;\n",
      "Convert the first character of each word to upper case:  Lo;\n",
      "Strip version of string is  lo;\n",
      "Right Strip version of string is  lo;\n",
      "Left Strip version of string is  lo;\n"
     ]
    },
    {
     "ename": "TypeError",
     "evalue": "rjust() takes at least 1 argument (0 given)",
     "output_type": "error",
     "traceback": [
      "\u001b[1;31m---------------------------------------------------------------------------\u001b[0m",
      "\u001b[1;31mTypeError\u001b[0m                                 Traceback (most recent call last)",
      "\u001b[1;32m<ipython-input-22-a5cf17200830>\u001b[0m in \u001b[0;36m<module>\u001b[1;34m\u001b[0m\n\u001b[0;32m     11\u001b[0m \u001b[0mprint\u001b[0m\u001b[1;33m(\u001b[0m\u001b[1;34m\"Right Strip version of string is \"\u001b[0m\u001b[1;33m,\u001b[0m\u001b[0ma\u001b[0m\u001b[1;33m.\u001b[0m\u001b[0mrstrip\u001b[0m\u001b[1;33m(\u001b[0m\u001b[1;33m)\u001b[0m\u001b[1;33m)\u001b[0m\u001b[1;33m\u001b[0m\u001b[1;33m\u001b[0m\u001b[0m\n\u001b[0;32m     12\u001b[0m \u001b[0mprint\u001b[0m\u001b[1;33m(\u001b[0m\u001b[1;34m\"Left Strip version of string is \"\u001b[0m\u001b[1;33m,\u001b[0m\u001b[0ma\u001b[0m\u001b[1;33m.\u001b[0m\u001b[0mlstrip\u001b[0m\u001b[1;33m(\u001b[0m\u001b[1;33m)\u001b[0m\u001b[1;33m)\u001b[0m\u001b[1;33m\u001b[0m\u001b[1;33m\u001b[0m\u001b[0m\n\u001b[1;32m---> 13\u001b[1;33m \u001b[0mprint\u001b[0m\u001b[1;33m(\u001b[0m\u001b[1;34m\"right justified version of the string is : \"\u001b[0m\u001b[1;33m,\u001b[0m\u001b[0ma\u001b[0m\u001b[1;33m.\u001b[0m\u001b[0mrjust\u001b[0m\u001b[1;33m(\u001b[0m\u001b[1;33m)\u001b[0m\u001b[1;33m)\u001b[0m\u001b[1;33m\u001b[0m\u001b[1;33m\u001b[0m\u001b[0m\n\u001b[0m",
      "\u001b[1;31mTypeError\u001b[0m: rjust() takes at least 1 argument (0 given)"
     ]
    }
   ],
   "source": [
    "a = input(\"Enter any string : \")\n",
    "print(\"Entered string is \",a)\n",
    "print(\"String After converting first character of string to upper case : \",a.capitalize())\n",
    "print(\"String After converting into lower case : \",a.casefold())\n",
    "print(\"String After converting into lower case : \",a.upper())\n",
    "print(\"Check if string is in lower case : \",a.islower())\n",
    "print(\"Check if string is in Upper case : \",a.isupper())\n",
    "print(\"String After converting into lower case : \",a.lower())\n",
    "print(\"Convert the first character of each word to upper case: \",a.title())\n",
    "print(\"Strip version of string is \",a.strip())\n",
    "print(\"Right Strip version of string is \",a.rstrip())\n",
    "print(\"Left Strip version of string is \",a.lstrip())\n",
    "print(\"Returns True if the string follows the rules of a title \",a.)"
   ]
  },
  {
   "cell_type": "code",
   "execution_count": null,
   "metadata": {},
   "outputs": [],
   "source": []
  },
  {
   "cell_type": "code",
   "execution_count": null,
   "metadata": {},
   "outputs": [],
   "source": []
  }
 ],
 "metadata": {
  "kernelspec": {
   "display_name": "Python 3",
   "language": "python",
   "name": "python3"
  },
  "language_info": {
   "codemirror_mode": {
    "name": "ipython",
    "version": 3
   },
   "file_extension": ".py",
   "mimetype": "text/x-python",
   "name": "python",
   "nbconvert_exporter": "python",
   "pygments_lexer": "ipython3",
   "version": "3.7.4"
  }
 },
 "nbformat": 4,
 "nbformat_minor": 4
}
