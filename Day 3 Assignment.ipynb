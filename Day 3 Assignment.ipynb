{
 "cells": [
  {
   "cell_type": "markdown",
   "metadata": {},
   "source": [
    "Question 1: Write a program to subtract two complex numbers in Python.\n"
   ]
  },
  {
   "cell_type": "code",
   "execution_count": 1,
   "metadata": {},
   "outputs": [
    {
     "name": "stdout",
     "output_type": "stream",
     "text": [
      "complex numbers are:\n",
      " a =  (3+4j)  and b =  (1+3j)\n",
      "Subtraction of  (3+4j)  and  (1+3j)  is :  (2+1j)\n"
     ]
    }
   ],
   "source": [
    "a = 3 + 4j\n",
    "b = 1 + 3j\n",
    "print(\"complex numbers are:\\n a = \",a,\" and b = \",b)\n",
    "print(\"Subtraction of \",a,\" and \", b, \" is : \",end=\" \")\n",
    "print(a-b)"
   ]
  },
  {
   "cell_type": "markdown",
   "metadata": {},
   "source": [
    "Question 2 : Write a program to find the fourth root of a number."
   ]
  },
  {
   "cell_type": "code",
   "execution_count": 3,
   "metadata": {},
   "outputs": [
    {
     "name": "stdout",
     "output_type": "stream",
     "text": [
      "10000\n",
      "Entered number is  10000\n",
      "Fourth root of  10000  is :  10.0\n"
     ]
    }
   ],
   "source": [
    "a = int(input())\n",
    "print(\"Entered number is \",a)\n",
    "b = a ** 0.25\n",
    "print(\"Fourth root of \",a,\" is : \",end = \" \")\n",
    "print(b)"
   ]
  },
  {
   "cell_type": "markdown",
   "metadata": {},
   "source": [
    "Question 3: Write a program to swap two numbers in Python with the help of a temporary variable."
   ]
  },
  {
   "cell_type": "code",
   "execution_count": 4,
   "metadata": {},
   "outputs": [
    {
     "name": "stdout",
     "output_type": "stream",
     "text": [
      "5\n",
      "6\n",
      "-----Before Swapping----\n",
      "First number =  5 Second number =  6\n",
      "-----Aftter Swapping----\n",
      "First number =  6 Second number =  5\n"
     ]
    }
   ],
   "source": [
    "a = int(input())\n",
    "b = int(input())\n",
    "print(\"-----Before Swapping----\")\n",
    "print(\"First number = \",a ,\"Second number = \" ,b)\n",
    "c = a\n",
    "a = b\n",
    "b = c\n",
    "print(\"-----Aftter Swapping----\")\n",
    "print(\"First number = \",a ,\"Second number = \" ,b)\n"
   ]
  },
  {
   "cell_type": "markdown",
   "metadata": {},
   "source": [
    "Question 4: Write a program to swap two numbers in Python without using a temporary variable."
   ]
  },
  {
   "cell_type": "code",
   "execution_count": 5,
   "metadata": {},
   "outputs": [
    {
     "name": "stdout",
     "output_type": "stream",
     "text": [
      "45\n",
      "63\n",
      "-----Before Swapping----\n",
      "First number =  45 Second number =  63\n",
      "-----Aftter Swapping----\n",
      "First number =  63 Second number =  45\n"
     ]
    }
   ],
   "source": [
    "a = int(input())\n",
    "b = int(input())\n",
    "print(\"-----Before Swapping----\")\n",
    "print(\"First number = \",a ,\"Second number = \" ,b)\n",
    "a = a + b\n",
    "b = a - b\n",
    "a = a - b\n",
    "print(\"-----Aftter Swapping----\")\n",
    "print(\"First number = \",a ,\"Second number = \" ,b)\n"
   ]
  },
  {
   "cell_type": "markdown",
   "metadata": {},
   "source": [
    "Question 5: Write a program to convert Fahrenheit to kelvin and celsius both."
   ]
  },
  {
   "cell_type": "code",
   "execution_count": 7,
   "metadata": {},
   "outputs": [
    {
     "name": "stdout",
     "output_type": "stream",
     "text": [
      "32\n",
      "Fahrenheit value is :  32.0 \n",
      "Kelvin value is :  273.15 \n",
      "Celcius value is :  0.0\n"
     ]
    }
   ],
   "source": [
    "f = float(input())\n",
    "k = (5/9)*(f-32) + 273.15 \n",
    "c = (5/9)*(f-32)\n",
    "print(\"Fahrenheit value is : \",f,\"\\nKelvin value is : \",k,\"\\nCelcius value is : \",c)\n"
   ]
  },
  {
   "cell_type": "markdown",
   "metadata": {},
   "source": [
    "Question 6:Write a program to demonstrate all the available data types in Python."
   ]
  },
  {
   "cell_type": "code",
   "execution_count": 11,
   "metadata": {},
   "outputs": [
    {
     "name": "stdout",
     "output_type": "stream",
     "text": [
      "<class 'int'>\n",
      "<class 'float'>\n",
      "<class 'str'>\n",
      "<class 'bool'>\n",
      "<class 'list'>\n",
      "<class 'dict'>\n",
      "<class 'complex'>\n"
     ]
    }
   ],
   "source": [
    "a = 9\n",
    "print(type(a))\n",
    "b = 2.3\n",
    "print(type(b))\n",
    "c = \"Santosh\"\n",
    "print(type(c))\n",
    "d = True \n",
    "print(type(d))\n",
    "l = [23,'sdf',23.5]\n",
    "print(type(l))\n",
    "dict = {\"a1\":23,\"b1\":34.3}\n",
    "print(type(dict))\n",
    "comp = 23+34j\n",
    "print(type(comp))"
   ]
  }
 ],
 "metadata": {
  "kernelspec": {
   "display_name": "Python 3",
   "language": "python",
   "name": "python3"
  },
  "language_info": {
   "codemirror_mode": {
    "name": "ipython",
    "version": 3
   },
   "file_extension": ".py",
   "mimetype": "text/x-python",
   "name": "python",
   "nbconvert_exporter": "python",
   "pygments_lexer": "ipython3",
   "version": "3.7.4"
  }
 },
 "nbformat": 4,
 "nbformat_minor": 4
}
